{
 "cells": [
  {
   "cell_type": "code",
   "execution_count": 33,
   "metadata": {},
   "outputs": [],
   "source": [
    "import json\n",
    "import re\n",
    "\n",
    "import pandas as pd\n",
    "import requests\n",
    "\n",
    "import wmfdata as wmf\n",
    "from wmfdata.utils import get_dblist"
   ]
  },
  {
   "cell_type": "code",
   "execution_count": 34,
   "metadata": {},
   "outputs": [],
   "source": [
    "# Use all.dblist instead of a sites table, which could include deleted wikis\n",
    "wikis = get_dblist(\"all\")\n",
    "\n",
    "# Make it a dataframe with the proper column name so it can be merged \n",
    "wikis = pd.DataFrame(wikis, columns=[\"database_code\"])"
   ]
  },
  {
   "cell_type": "code",
   "execution_count": 35,
   "metadata": {},
   "outputs": [],
   "source": [
    "# Join to additional data from sites table, excluding entries not found in all.dblist\n",
    "sites = wmf.mariadb.run(\"\"\"\n",
    "SELECT\n",
    "    site_global_key AS database_code,\n",
    "    CONCAT(TRIM(LEADING \".\" FROM REVERSE(site_domain))) AS domain_name,\n",
    "    site_group AS database_group,\n",
    "    site_language AS language_code\n",
    "FROM sites\n",
    "\"\"\", \"metawiki\")\n",
    "\n",
    "wikis = wikis.merge(sites, how=\"left\", on=\"database_code\", sort=\"True\").set_index(\"database_code\")"
   ]
  },
  {
   "cell_type": "code",
   "execution_count": 36,
   "metadata": {},
   "outputs": [
    {
     "data": {
      "text/html": [
       "<div>\n",
       "<style scoped>\n",
       "    .dataframe tbody tr th:only-of-type {\n",
       "        vertical-align: middle;\n",
       "    }\n",
       "\n",
       "    .dataframe tbody tr th {\n",
       "        vertical-align: top;\n",
       "    }\n",
       "\n",
       "    .dataframe thead th {\n",
       "        text-align: right;\n",
       "    }\n",
       "</style>\n",
       "<table border=\"1\" class=\"dataframe\">\n",
       "  <thead>\n",
       "    <tr style=\"text-align: right;\">\n",
       "      <th></th>\n",
       "      <th>domain_name</th>\n",
       "      <th>database_group</th>\n",
       "      <th>language_code</th>\n",
       "    </tr>\n",
       "    <tr>\n",
       "      <th>database_code</th>\n",
       "      <th></th>\n",
       "      <th></th>\n",
       "      <th></th>\n",
       "    </tr>\n",
       "  </thead>\n",
       "  <tbody>\n",
       "  </tbody>\n",
       "</table>\n",
       "</div>"
      ],
      "text/plain": [
       "Empty DataFrame\n",
       "Columns: [domain_name, database_group, language_code]\n",
       "Index: []"
      ]
     },
     "execution_count": 36,
     "metadata": {},
     "output_type": "execute_result"
    }
   ],
   "source": [
    "# Check for wikis with null data (e.g. newly created wikis not yet added to the sites table)\n",
    "wikis[wikis.isnull().any(axis=1)]"
   ]
  },
  {
   "cell_type": "code",
   "execution_count": 37,
   "metadata": {},
   "outputs": [],
   "source": [
    "# Add missing data. Remove manual additions once no longer needed\n",
    "extra_wikis = pd.DataFrame([\n",
    "  # Example: (\"gcrwiki\", \"gcr.wikipedia.org\", \"wikipedia\", \"gcr\"),\n",
    "], columns=[\"database_code\", \"domain_name\", \"database_group\", \"language_code\"]\n",
    ").set_index(\"database_code\")\n",
    "\n",
    "wikis.update(extra_wikis, overwrite=False)"
   ]
  },
  {
   "cell_type": "markdown",
   "metadata": {},
   "source": [
    "# Language names"
   ]
  },
  {
   "cell_type": "code",
   "execution_count": 48,
   "metadata": {},
   "outputs": [],
   "source": [
    "lang_urls = [\n",
    "    \"https://raw.githubusercontent.com/wikimedia/mediawiki-extensions-cldr/master/CldrNames/CldrNamesEn.php\",\n",
    "    \"https://raw.githubusercontent.com/wikimedia/mediawiki-extensions-cldr/master/LocalNames/LocalNamesEn.php\"\n",
    "]\n",
    "\n",
    "def get_lang_names(url):\n",
    "    r = requests.get(url)\n",
    "    m = re.search(r\"languageNames = (\\[[\\s\\S]+?\\])\", r.text)\n",
    "    php_ln = m.group(1)\n",
    "    \n",
    "    json_ln = php_ln\n",
    "    repl = [\n",
    "        # Convert from PHP array format to JSON\n",
    "        (\" =>\", \":\"),\n",
    "        (\"\\[\", \"{\"),\n",
    "        (\"\\]\", \"}\"),\n",
    "        # Trailing commas will cause problems\n",
    "        (\",\\n}\", \"\\n}\"),\n",
    "        # ...so will single quotes\n",
    "        (\"'\", '\"'),\n",
    "        # ...and comments\n",
    "        (r\"/\\*[\\s\\S]*?\\*/\", \"\"),\n",
    "        (r\"#(.*?)\\n\", \"\"),\n",
    "        # One hack to deal with a single quote in a language name\n",
    "        ('O\"odham', \"O'odham\")\n",
    "    ]\n",
    "    for old, new in repl:\n",
    "        json_ln = re.sub(old, new, json_ln)\n",
    "    \n",
    "    py_ln = json.loads(json_ln)\n",
    "    return py_ln\n",
    "\n",
    "langs = {}\n",
    "for url in lang_urls:\n",
    "    langs.update(get_lang_names(url))\n",
    "\n",
    "wikis[\"language_name\"] = wikis[\"language_code\"].apply(langs.get)"
   ]
  },
  {
   "cell_type": "code",
   "execution_count": 52,
   "metadata": {},
   "outputs": [
    {
     "data": {
      "text/plain": [
       "{'als',\n",
       " 'atj',\n",
       " 'diq',\n",
       " 'fiu-vro',\n",
       " 'map-bms',\n",
       " 'nah',\n",
       " 'pih',\n",
       " 'simple',\n",
       " 'szy',\n",
       " 'tay'}"
      ]
     },
     "execution_count": 52,
     "metadata": {},
     "output_type": "execute_result"
    }
   ],
   "source": [
    "# Check for wikis with null language names since some are not included in CLDR\n",
    "null_lang_wikis = wikis[wikis[\"language_name\"].isna()].copy()\n",
    "set(null_lang_wikis[\"language_code\"])"
   ]
  },
  {
   "cell_type": "code",
   "execution_count": 56,
   "metadata": {},
   "outputs": [],
   "source": [
    "# Add missing language names. Remove manual additions once no longer needed. \n",
    "extra_langs = {\n",
    "    \"als\": \"Alsatian\",\n",
    "    \"atj\": \"Atikamekw\",\n",
    "    \"diq\": \"Zazaki\",\n",
    "    \"fiu-vro\": \"Võro\",\n",
    "    \"map-bms\": \"Banyumasan\",\n",
    "    \"nah\": \"Nahuatl\",\n",
    "    \"pih\": \"Norfuk-Pitkern\",\n",
    "    \"simple\": \"Simple English\",\n",
    "    \"szy\": \"Sakizaya\",\n",
    "    \"tay\": \"Atayal\"\n",
    "}\n",
    "\n",
    "null_lang_wikis[\"language_name\"] = null_lang_wikis[\"language_code\"].apply(extra_langs.get)\n",
    "wikis.update(null_lang_wikis, overwrite=False)"
   ]
  },
  {
   "cell_type": "markdown",
   "metadata": {},
   "source": [
    "# Status and access"
   ]
  },
  {
   "cell_type": "code",
   "execution_count": 73,
   "metadata": {},
   "outputs": [],
   "source": [
    "closed = get_dblist(\"closed\")\n",
    "private = get_dblist(\"private\")\n",
    "fishbowl = get_dblist(\"fishbowl\")\n",
    "editability_private = private.copy()\n",
    "editability_private.extend(fishbowl)\n",
    "\n",
    "def apply_to_index(df, true_list, true_label, false_label):\n",
    "    idx_ser = df.index.to_series()\n",
    "    return idx_ser.isin(true_list).apply(lambda x: true_label if x else false_label)\n",
    "\n",
    "wikis = (\n",
    "    wikis.assign(\n",
    "        status=lambda df: apply_to_index(df, closed, \"closed\", \"open\"),\n",
    "        visibility=lambda df: apply_to_index(df, private, \"private\", \"public\"),\n",
    "        editability=lambda df: apply_to_index(df, editability_private, \"private\", \"public\")\n",
    "    )\n",
    ")"
   ]
  },
  {
   "cell_type": "markdown",
   "metadata": {},
   "source": [
    "# Site names"
   ]
  },
  {
   "cell_type": "code",
   "execution_count": 74,
   "metadata": {},
   "outputs": [],
   "source": [
    "project_names = requests.get(\n",
    "    \"https://raw.githubusercontent.com/wikimedia/mediawiki-extensions-WikimediaMessages/master/\" +\n",
    "    \"i18n/wikimediaprojectnames/en.json\"\n",
    ").text\n",
    "\n",
    "replacements = [\n",
    "    (r'\"project-localized-name-(\\w*)\":', r'\"\\1\":'),\n",
    "    (r'\"@metadata\": \\[.*\\],', '')\n",
    "]\n",
    "\n",
    "for old, new in replacements:\n",
    "    project_names = re.sub(old, new, project_names)\n",
    "\n",
    "project_names = json.loads(project_names)\n",
    "project_names = pd.DataFrame.from_dict(\n",
    "    project_names, \n",
    "    orient=\"index\", \n",
    "    columns=[\"english_name\"]\n",
    ").rename_axis(\"database_code\")"
   ]
  },
  {
   "cell_type": "code",
   "execution_count": 75,
   "metadata": {},
   "outputs": [],
   "source": [
    "wikis = wikis.merge(project_names, on=\"database_code\")"
   ]
  },
  {
   "cell_type": "markdown",
   "metadata": {},
   "source": [
    "# Write CSV"
   ]
  },
  {
   "cell_type": "code",
   "execution_count": 77,
   "metadata": {},
   "outputs": [],
   "source": [
    "wikis.to_csv(\"../wikis.csv\")"
   ]
  }
 ],
 "metadata": {
  "kernelspec": {
   "display_name": "Python 3 (ipykernel)",
   "language": "python",
   "name": "python3"
  },
  "language_info": {
   "codemirror_mode": {
    "name": "ipython",
    "version": 3
   },
   "file_extension": ".py",
   "mimetype": "text/x-python",
   "name": "python",
   "nbconvert_exporter": "python",
   "pygments_lexer": "ipython3",
   "version": "3.7.11"
  }
 },
 "nbformat": 4,
 "nbformat_minor": 4
}
