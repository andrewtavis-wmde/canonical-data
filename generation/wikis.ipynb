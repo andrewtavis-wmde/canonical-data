{
 "cells": [
  {
   "cell_type": "code",
   "execution_count": 3,
   "metadata": {},
   "outputs": [],
   "source": [
    "import json\n",
    "import re\n",
    "\n",
    "import pandas as pd\n",
    "import requests\n",
    "from wmfdata import mariadb"
   ]
  },
  {
   "cell_type": "code",
   "execution_count": 9,
   "metadata": {},
   "outputs": [],
   "source": [
    "# Filter out any empty lines and comments\n",
    "def data_line(line):\n",
    "  if len(line) == 0 or line[0] == \"#\":\n",
    "    return False\n",
    "  else:\n",
    "    return True\n",
    "\n",
    "def get_dblist(list_name):\n",
    "    list_url = (\"https://noc.wikimedia.org/conf/dblists/\" + list_name + \".dblist\")\n",
    "    list_content = requests.get(list_url).text.split(\"\\n\")\n",
    "    # Remove any empty lines\n",
    "    list_content = filter(data_line, list_content)\n",
    "    return pd.Series(list_content)"
   ]
  },
  {
   "cell_type": "code",
   "execution_count": 10,
   "metadata": {},
   "outputs": [],
   "source": [
    "# Use all.dblist instead of a sites table, which could include deleted wikis\n",
    "wikis = get_dblist(\"all\")\n",
    "# Make it a dataframe with the proper column name so it can be merged \n",
    "wikis = pd.DataFrame(wikis.rename(\"database_code\"))"
   ]
  },
  {
   "cell_type": "code",
   "execution_count": 12,
   "metadata": {},
   "outputs": [],
   "source": [
    "# Join to additional data from sites table, excluding entries not found in all.dblist\n",
    "sites = mariadb.run(\"\"\"\n",
    "select\n",
    "    site_global_key as database_code,\n",
    "    concat(trim(leading \".\" from reverse(site_domain))) as domain_name,\n",
    "    site_group as database_group,\n",
    "    site_language as language_code\n",
    "from sites\n",
    "\"\"\", \"metawiki\")\n",
    "\n",
    "wikis = wikis.merge(sites, how=\"left\", on=\"database_code\", sort=\"True\").set_index(\"database_code\")"
   ]
  },
  {
   "cell_type": "code",
   "execution_count": 13,
   "metadata": {},
   "outputs": [
    {
     "data": {
      "text/html": [
       "<div>\n",
       "<style scoped>\n",
       "    .dataframe tbody tr th:only-of-type {\n",
       "        vertical-align: middle;\n",
       "    }\n",
       "\n",
       "    .dataframe tbody tr th {\n",
       "        vertical-align: top;\n",
       "    }\n",
       "\n",
       "    .dataframe thead th {\n",
       "        text-align: right;\n",
       "    }\n",
       "</style>\n",
       "<table border=\"1\" class=\"dataframe\">\n",
       "  <thead>\n",
       "    <tr style=\"text-align: right;\">\n",
       "      <th></th>\n",
       "      <th>domain_name</th>\n",
       "      <th>database_group</th>\n",
       "      <th>language_code</th>\n",
       "    </tr>\n",
       "    <tr>\n",
       "      <th>database_code</th>\n",
       "      <th></th>\n",
       "      <th></th>\n",
       "      <th></th>\n",
       "    </tr>\n",
       "  </thead>\n",
       "  <tbody>\n",
       "  </tbody>\n",
       "</table>\n",
       "</div>"
      ],
      "text/plain": [
       "Empty DataFrame\n",
       "Columns: [domain_name, database_group, language_code]\n",
       "Index: []"
      ]
     },
     "execution_count": 13,
     "metadata": {},
     "output_type": "execute_result"
    }
   ],
   "source": [
    "# Check for wikis with null data (e.g. newly created wikis not yet added to the sites table)\n",
    "wikis[wikis.isnull().any(axis=1)]"
   ]
  },
  {
   "cell_type": "code",
   "execution_count": 14,
   "metadata": {},
   "outputs": [],
   "source": [
    "# Add missing data. Remove manual additions once no longer needed\n",
    "extra_wikis = pd.DataFrame([\n",
    "  # Example: (\"gcrwiki\", \"gcr.wikipedia.org\", \"wikipedia\", \"gcr\"),\n",
    "], columns=[\"database_code\", \"domain_name\", \"database_group\", \"language_code\"]\n",
    ").set_index(\"database_code\")\n",
    "\n",
    "wikis.update(extra_wikis, overwrite=False)"
   ]
  },
  {
   "cell_type": "markdown",
   "metadata": {},
   "source": [
    "# Language names"
   ]
  },
  {
   "cell_type": "code",
   "execution_count": 15,
   "metadata": {},
   "outputs": [],
   "source": [
    "lang_urls = [\n",
    "    \"https://raw.githubusercontent.com/wikimedia/mediawiki-extensions-cldr/master/CldrNames/CldrNamesEn.php\",\n",
    "    \"https://raw.githubusercontent.com/wikimedia/mediawiki-extensions-cldr/master/LocalNames/LocalNamesEn.php\"\n",
    "]\n",
    "\n",
    "def get_lang_names(url):\n",
    "    r = requests.get(url)\n",
    "    m = re.search(r\"languageNames = (\\[[\\s\\S]+?\\])\", r.text)\n",
    "    php_ln = m.group(1)\n",
    "    \n",
    "    json_ln = php_ln\n",
    "    repl = [\n",
    "        # Convert from PHP array format to JSON\n",
    "        (\" =>\", \":\"),\n",
    "        (\"\\[\", \"{\"),\n",
    "        (\"\\]\", \"}\"),\n",
    "        # Trailing commas will cause problems\n",
    "        (\",\\n}\", \"\\n}\"),\n",
    "        # ...so will single quotes\n",
    "        (\"'\", '\"'),\n",
    "        # ...and comments\n",
    "        (r\"/\\*[\\s\\S]*?\\*/\", \"\"),\n",
    "        (r\"#(.*?)\\n\", \"\"),\n",
    "        # One hack to deal with a single quote in a language name\n",
    "        ('O\"odham', \"O'odham\")\n",
    "    ]\n",
    "    for old, new in repl:\n",
    "        json_ln = re.sub(old, new, json_ln)\n",
    "    \n",
    "    py_ln = json.loads(json_ln)\n",
    "    return py_ln\n",
    "\n",
    "langs = {}\n",
    "for url in lang_urls:\n",
    "    langs.update(get_lang_names(url))\n",
    "\n",
    "wikis[\"language_name\"] = wikis[\"language_code\"].apply(langs.get)"
   ]
  },
  {
   "cell_type": "code",
   "execution_count": 16,
   "metadata": {},
   "outputs": [
    {
     "name": "stdout",
     "output_type": "stream",
     "text": [
      "['als' 'atj' 'diq' 'fiu-vro' 'map-bms' 'nah' 'pih' 'simple' 'szy']\n"
     ]
    }
   ],
   "source": [
    "# Check for wikis with null language names since some are not included in CLDR\n",
    "null_lang_wikis = wikis.query(\"language_name.isnull()\").copy()\n",
    "print(null_lang_wikis[\"language_code\"].unique())"
   ]
  },
  {
   "cell_type": "code",
   "execution_count": 17,
   "metadata": {},
   "outputs": [],
   "source": [
    "# Add missing language names. Remove manual additions once no longer needed. \n",
    "extra_langs = {\n",
    "  \"als\": \"Alsatian\",\n",
    "  \"atj\": \"Atikamekw\",\n",
    "  \"diq\": \"Zazaki\",\n",
    "  \"fiu-vro\": \"Võro\",\n",
    "  \"map-bms\": \"Banyumasan\",\n",
    "  \"nah\": \"Nahuatl\",\n",
    "  \"pih\": \"Norfuk-Pitkern\",\n",
    "  \"simple\": \"Simple English\",\n",
    "  \"szy\": \"Sakizaya\"\n",
    "}\n",
    "\n",
    "null_lang_wikis[\"language_name\"] = null_lang_wikis[\"language_code\"].apply(extra_langs.get)\n",
    "wikis.update(null_lang_wikis, overwrite=False)"
   ]
  },
  {
   "cell_type": "markdown",
   "metadata": {},
   "source": [
    "# Status and access"
   ]
  },
  {
   "cell_type": "code",
   "execution_count": 18,
   "metadata": {},
   "outputs": [],
   "source": [
    "closed = get_dblist(\"closed\")\n",
    "private = get_dblist(\"private\")\n",
    "fishbowl = get_dblist(\"fishbowl\")\n",
    "editability_private = private.append(fishbowl)\n",
    "\n",
    "def apply_to_index(df, true_list, true_label, false_label):\n",
    "    idx_ser = df.index.to_series()\n",
    "    return idx_ser.isin(true_list).apply(lambda x: true_label if x else false_label)\n",
    "\n",
    "wikis = (\n",
    "    wikis.assign(\n",
    "        status=lambda df: apply_to_index(df, closed, \"closed\", \"open\"),\n",
    "        visibility=lambda df: apply_to_index(df, private, \"private\", \"public\"),\n",
    "        editability=lambda df: apply_to_index(df, editability_private, \"private\", \"public\")\n",
    "    )\n",
    ")"
   ]
  },
  {
   "cell_type": "markdown",
   "metadata": {},
   "source": [
    "# Site names"
   ]
  },
  {
   "cell_type": "code",
   "execution_count": 19,
   "metadata": {},
   "outputs": [],
   "source": [
    "project_names = requests.get(\n",
    "  \"https://raw.githubusercontent.com/wikimedia/mediawiki-extensions-WikimediaMessages/master/\" +\n",
    "  \"i18n/wikimediaprojectnames/en.json\"\n",
    ").text\n",
    "\n",
    "replacements = [\n",
    "  (r'\"project-localized-name-(\\w*)\":', r'\"\\1\":'),\n",
    "  (r'\"@metadata\": \\[.*\\],', '')\n",
    "]\n",
    "\n",
    "for old, new in replacements:\n",
    "  project_names = re.sub(old, new, project_names)\n",
    "\n",
    "project_names = json.loads(project_names)\n",
    "project_names = pd.DataFrame.from_dict(\n",
    "  project_names, \n",
    "  orient=\"index\", \n",
    "  columns=[\"english_name\"]\n",
    ").rename_axis(\"database_code\")"
   ]
  },
  {
   "cell_type": "code",
   "execution_count": 20,
   "metadata": {},
   "outputs": [],
   "source": [
    "wikis = wikis.merge(project_names, on=\"database_code\")"
   ]
  },
  {
   "cell_type": "markdown",
   "metadata": {},
   "source": [
    "# Write CSV"
   ]
  },
  {
   "cell_type": "code",
   "execution_count": 21,
   "metadata": {},
   "outputs": [],
   "source": [
    "wikis.to_csv(\"../wikis.csv\")"
   ]
  }
 ],
 "metadata": {
  "kernelspec": {
   "display_name": "Python 3",
   "language": "python",
   "name": "python3"
  },
  "language_info": {
   "codemirror_mode": {
    "name": "ipython",
    "version": 3
   },
   "file_extension": ".py",
   "mimetype": "text/x-python",
   "name": "python",
   "nbconvert_exporter": "python",
   "pygments_lexer": "ipython3",
   "version": "3.7.3"
  }
 },
 "nbformat": 4,
 "nbformat_minor": 4
}
