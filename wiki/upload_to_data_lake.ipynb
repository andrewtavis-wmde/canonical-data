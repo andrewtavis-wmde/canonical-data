{
 "cells": [
  {
   "cell_type": "code",
   "execution_count": 1,
   "id": "d95cb734-2034-48fb-8743-8eb736f517ec",
   "metadata": {},
   "outputs": [],
   "source": [
    "import wmfdata as wmf"
   ]
  },
  {
   "cell_type": "code",
   "execution_count": null,
   "id": "be187b2f-e46b-4ab8-9723-1bc2fd24397d",
   "metadata": {},
   "outputs": [],
   "source": [
    "wmf.hive.load_csv(\n",
    "    \"wikis.csv\",\n",
    "    field_spec=\"\"\"\n",
    "        database_code string, \n",
    "        domain_name string, \n",
    "        database_group string, \n",
    "        language_code string,\n",
    "        language_name string,\n",
    "        status string,\n",
    "        visibility string,\n",
    "        editability string,\n",
    "        english_name string\n",
    "    \"\"\",\n",
    "    db_name=\"canonical_data\",\n",
    "    table_name=\"wikis\"\n",
    ")"
   ]
  },
  {
   "cell_type": "code",
   "execution_count": null,
   "id": "d71c7f65-8646-452a-9b1b-03db9eefc5de",
   "metadata": {},
   "outputs": [],
   "source": [
    "wmf.hive.load_csv(\n",
    "    \"mobile_heavy_wikis.csv\",\n",
    "    field_spec=\"database_code string\",\n",
    "    db_name=\"canonical_data\",\n",
    "    table_name=\"mobile_heavy_wikis\"\n",
    ")"
   ]
  }
 ],
 "metadata": {
  "kernelspec": {
   "display_name": "Python 3 (ipykernel)",
   "language": "python",
   "name": "python3"
  },
  "language_info": {
   "codemirror_mode": {
    "name": "ipython",
    "version": 3
   },
   "file_extension": ".py",
   "mimetype": "text/x-python",
   "name": "python",
   "nbconvert_exporter": "python",
   "pygments_lexer": "ipython3",
   "version": "3.10.8"
  }
 },
 "nbformat": 4,
 "nbformat_minor": 5
}
