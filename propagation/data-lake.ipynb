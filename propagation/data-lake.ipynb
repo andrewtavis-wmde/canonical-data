{
 "cells": [
  {
   "cell_type": "code",
   "execution_count": 1,
   "metadata": {},
   "outputs": [
    {
     "name": "stderr",
     "output_type": "stream",
     "text": [
      "You can find the source for `wmfdata` at https://github.com/neilpquinn/wmfdata\n"
     ]
    }
   ],
   "source": [
    "from wmfdata import hive"
   ]
  },
  {
   "cell_type": "code",
   "execution_count": 3,
   "metadata": {},
   "outputs": [
    {
     "name": "stderr",
     "output_type": "stream",
     "text": [
      "log4j:WARN No such property [maxBackupIndex] in org.apache.log4j.DailyRollingFileAppender.\n",
      "\n",
      "Logging initialized using configuration in file:/etc/hive/conf.analytics-hadoop/hive-log4j.properties\n",
      "Loading data to table canonical_data.countries\n",
      "OK\n",
      "Time taken: 1.765 seconds\n",
      "\n"
     ]
    }
   ],
   "source": [
    "hive.load_csv(\n",
    "    \"../countries.csv\",\n",
    "    field_spec=\"name string, iso_code string, economic_region string, maxmind_continent string\",\n",
    "    db_name=\"canonical_data\",\n",
    "    table_name=\"countries\"\n",
    ")"
   ]
  },
  {
   "cell_type": "code",
   "execution_count": 4,
   "metadata": {},
   "outputs": [
    {
     "name": "stderr",
     "output_type": "stream",
     "text": [
      "log4j:WARN No such property [maxBackupIndex] in org.apache.log4j.DailyRollingFileAppender.\n",
      "\n",
      "Logging initialized using configuration in file:/etc/hive/conf.analytics-hadoop/hive-log4j.properties\n",
      "Loading data to table canonical_data.mobile_heavy_wikis\n",
      "OK\n",
      "Time taken: 1.638 seconds\n",
      "\n"
     ]
    }
   ],
   "source": [
    "hive.load_csv(\n",
    "    \"../mobile_heavy_wikis.csv\",\n",
    "    field_spec=\"database_code string\",\n",
    "    db_name=\"canonical_data\",\n",
    "    table_name=\"mobile_heavy_wikis\"\n",
    ")"
   ]
  },
  {
   "cell_type": "code",
   "execution_count": 2,
   "metadata": {},
   "outputs": [
    {
     "name": "stderr",
     "output_type": "stream",
     "text": [
      "log4j:WARN No such property [maxBackupIndex] in org.apache.log4j.DailyRollingFileAppender.\n",
      "\n",
      "Logging initialized using configuration in file:/etc/hive/conf.analytics-hadoop/hive-log4j.properties\n",
      "Loading data to table canonical_data.wikis\n",
      "OK\n",
      "Time taken: 1.722 seconds\n",
      "\n"
     ]
    }
   ],
   "source": [
    "hive.load_csv(\n",
    "    \"../wikis.csv\",\n",
    "    field_spec=\"\"\"\n",
    "        database_code string, \n",
    "        domain_name string, \n",
    "        database_group string, \n",
    "        language_code string,\n",
    "        language_name string,\n",
    "        status string,\n",
    "        visbility string\n",
    "    \"\"\",\n",
    "    db_name=\"canonical_data\",\n",
    "    table_name=\"wikis\"\n",
    ")"
   ]
  },
  {
   "cell_type": "code",
   "execution_count": null,
   "metadata": {},
   "outputs": [],
   "source": []
  }
 ],
 "metadata": {
  "kernelspec": {
   "display_name": "Python 3",
   "language": "python",
   "name": "python3"
  },
  "language_info": {
   "codemirror_mode": {
    "name": "ipython",
    "version": 3
   },
   "file_extension": ".py",
   "mimetype": "text/x-python",
   "name": "python",
   "nbconvert_exporter": "python",
   "pygments_lexer": "ipython3",
   "version": "3.5.3"
  }
 },
 "nbformat": 4,
 "nbformat_minor": 2
}
