{
 "cells": [
  {
   "cell_type": "code",
   "execution_count": 1,
   "metadata": {},
   "outputs": [
    {
     "name": "stderr",
     "output_type": "stream",
     "text": [
      "You can find the source for `wmfdata` at https://github.com/neilpquinn/wmfdata\n"
     ]
    }
   ],
   "source": [
    "from wmfdata import hive"
   ]
  },
  {
   "cell_type": "code",
   "execution_count": 2,
   "metadata": {},
   "outputs": [],
   "source": [
    "hive.run(\"\"\"\n",
    "CREATE DATABASE IF NOT EXISTS canonical_data\n",
    "COMMENT \"Copies of the canonical datasets located in https://github.com/wikimedia-research/canonical-data/\"\n",
    "\"\"\")"
   ]
  },
  {
   "cell_type": "code",
   "execution_count": 13,
   "metadata": {},
   "outputs": [],
   "source": [
    "HIVE_CREATE_CMD = \"\"\"\n",
    "create table if not exists canonical_data.{table_name} (\n",
    "    {field_spec}\n",
    ")\n",
    "row format delimited fields terminated by ','\n",
    "\"\"\"\n",
    "\n",
    "HIVE_LOAD_CMD = \"\"\"\n",
    "    LOAD DATA LOCAL INPATH '{path}' \n",
    "    OVERWRITE INTO TABLE canonical_data.{table_name}\n",
    "\"\"\"\n"
   ]
  },
  {
   "cell_type": "code",
   "execution_count": 15,
   "metadata": {},
   "outputs": [
    {
     "name": "stdout",
     "output_type": "stream",
     "text": [
      "log4j:WARN No such property [maxBackupIndex] in org.apache.log4j.DailyRollingFileAppender.\n",
      "\n",
      "Logging initialized using configuration in file:/etc/hive/conf.analytics-hadoop/hive-log4j.properties\n",
      "Loading data to table canonical_data.countries\n",
      "OK\n",
      "Time taken: 1.729 seconds\n"
     ]
    }
   ],
   "source": [
    "# To-do: turn into a wmfdata utility\n",
    "# To-do: automatically derive a CSV with headers stripped, save it to a temp location, and use it here\n",
    "# To-do: better solution for deriving field types\n",
    "table_name=\"countries\"\n",
    "\n",
    "hive.run(HIVE_CREATE_CMD.format(\n",
    "    table_name=table_name,\n",
    "    field_spec=\"name string, iso_code string, economic_region string, maxmind_continent string\"\n",
    "))\n",
    "\n",
    "this_load_cmd = HIVE_LOAD_CMD.format(\n",
    "    path=\"/home/neilpquinn-wmf/pkg/canonical-data/countries_noheaders.csv\",\n",
    "    table_name=table_name\n",
    ")\n",
    "\n",
    "!hive -e \"{this_load_cmd}\""
   ]
  },
  {
   "cell_type": "code",
   "execution_count": null,
   "metadata": {},
   "outputs": [],
   "source": []
  }
 ],
 "metadata": {
  "kernelspec": {
   "display_name": "Python 3",
   "language": "python",
   "name": "python3"
  },
  "language_info": {
   "codemirror_mode": {
    "name": "ipython",
    "version": 3
   },
   "file_extension": ".py",
   "mimetype": "text/x-python",
   "name": "python",
   "nbconvert_exporter": "python",
   "pygments_lexer": "ipython3",
   "version": "3.5.3"
  }
 },
 "nbformat": 4,
 "nbformat_minor": 2
}
