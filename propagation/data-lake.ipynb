{
 "cells": [
  {
   "cell_type": "code",
   "execution_count": 1,
   "metadata": {},
   "outputs": [],
   "source": [
    "import wmfdata as wmf"
   ]
  },
  {
   "cell_type": "code",
   "execution_count": 3,
   "metadata": {},
   "outputs": [],
   "source": [
    "wmf.hive.load_csv(\n",
    "    \"../countries.csv\",\n",
    "    field_spec=\"name string, iso_code string, economic_region string, maxmind_continent string\",\n",
    "    db_name=\"canonical_data\",\n",
    "    table_name=\"countries\"\n",
    ")"
   ]
  },
  {
   "cell_type": "code",
   "execution_count": 5,
   "metadata": {},
   "outputs": [],
   "source": [
    "wmf.hive.load_csv(\n",
    "    \"../mobile_heavy_wikis.csv\",\n",
    "    field_spec=\"database_code string\",\n",
    "    db_name=\"canonical_data\",\n",
    "    table_name=\"mobile_heavy_wikis\"\n",
    ")"
   ]
  },
  {
   "cell_type": "code",
   "execution_count": 6,
   "metadata": {},
   "outputs": [],
   "source": [
    "wmf.hive.load_csv(\n",
    "    \"../wikis.csv\",\n",
    "    field_spec=\"\"\"\n",
    "        database_code string, \n",
    "        domain_name string, \n",
    "        database_group string, \n",
    "        language_code string,\n",
    "        language_name string,\n",
    "        editability string,\n",
    "        status string,\n",
    "        visibility string,\n",
    "        english_name string\n",
    "    \"\"\",\n",
    "    db_name=\"canonical_data\",\n",
    "    table_name=\"wikis\"\n",
    ")"
   ]
  }
 ],
 "metadata": {
  "kernelspec": {
   "display_name": "Python 3",
   "language": "python",
   "name": "python3"
  },
  "language_info": {
   "codemirror_mode": {
    "name": "ipython",
    "version": 3
   },
   "file_extension": ".py",
   "mimetype": "text/x-python",
   "name": "python",
   "nbconvert_exporter": "python",
   "pygments_lexer": "ipython3",
   "version": "3.7.3"
  }
 },
 "nbformat": 4,
 "nbformat_minor": 4
}
